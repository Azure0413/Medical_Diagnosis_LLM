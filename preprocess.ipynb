{
 "cells": [
  {
   "cell_type": "code",
   "execution_count": 1,
   "id": "b747c79f",
   "metadata": {},
   "outputs": [
    {
     "name": "stdout",
     "output_type": "stream",
     "text": [
      "Successfully processed RJUA_train.json\n",
      "Successfully processed RJUA_valid.json\n",
      "Successfully processed RJUA_test.json\n",
      "Successfully created output.json\n"
     ]
    }
   ],
   "source": [
    "import json\n",
    "\n",
    "# List to store our final data\n",
    "output_data = []\n",
    "\n",
    "# File paths\n",
    "file_paths = [\"RJUA_train.json\", \"RJUA_valid.json\", \"RJUA_test.json\"]\n",
    "\n",
    "# Process each file\n",
    "for file_path in file_paths:\n",
    "    try:\n",
    "        # Open the file and read line by line\n",
    "        with open(file_path, 'r', encoding='utf-8') as f:\n",
    "            for line in f:\n",
    "                if line.strip():  # Check if line is not empty\n",
    "                    # Parse the JSON object from the line\n",
    "                    data = json.loads(line.strip())\n",
    "                    \n",
    "                    # Extract required fields\n",
    "                    question = data.get(\"question\", \"\")\n",
    "                    context = data.get(\"context\", \"\")\n",
    "                    answer = data.get(\"answer\", \"\")\n",
    "                    disease = data.get(\"disease\", \"\")\n",
    "                    advice = data.get(\"advice\", \"\")\n",
    "                    \n",
    "                    # Create the formatted entry\n",
    "                    formatted_entry = {\n",
    "                        \"prompt\": question,\n",
    "                        \"chosen\": f\"<think>{context}</think>，{answer}，症狀為{disease}，建議：{advice}\"\n",
    "                    }\n",
    "                    \n",
    "                    # Add to our output data\n",
    "                    output_data.append(formatted_entry)\n",
    "        \n",
    "        print(f\"Successfully processed {file_path}\")\n",
    "                    \n",
    "    except Exception as e:\n",
    "        print(f\"Error processing file {file_path}: {e}\")\n",
    "\n",
    "# Write the output to a JSON file\n",
    "try:\n",
    "    with open(\"output.json\", 'w', encoding='utf-8') as f:\n",
    "        json.dump(output_data, f, ensure_ascii=False, indent=2)\n",
    "    print(\"Successfully created output.json\")\n",
    "except Exception as e:\n",
    "    print(f\"Error writing output file: {e}\")\n"
   ]
  },
  {
   "cell_type": "code",
   "execution_count": 3,
   "id": "aafdd72e",
   "metadata": {},
   "outputs": [
    {
     "name": "stdout",
     "output_type": "stream",
     "text": [
      "✅ 處理完成，結果已儲存到：./complete_data/medical_modified.json\n"
     ]
    }
   ],
   "source": [
    "import json\n",
    "import os\n",
    "\n",
    "# 檔案路徑\n",
    "input_path = \"./complete_data/medical.json\"\n",
    "output_path = \"./complete_data/medical_modified.json\"\n",
    "\n",
    "# 檢查檔案是否存在\n",
    "if not os.path.exists(input_path):\n",
    "    raise FileNotFoundError(f\"找不到檔案：{input_path}\")\n",
    "\n",
    "# 讀取原始資料\n",
    "with open(input_path, \"r\", encoding=\"utf-8\") as f:\n",
    "    data = json.load(f)\n",
    "\n",
    "# 處理每一筆資料\n",
    "modified_data = []\n",
    "for item in data:\n",
    "    complex_cot = item.get(\"Complex_CoT\", \"\")\n",
    "    response = item.get(\"Response\", \"\")\n",
    "    reject = item.get(\"reject\", \"\")\n",
    "\n",
    "    # 新的 response 結合 Complex_CoT\n",
    "    new_response = f\"<think>{complex_cot}</think> {response}\"\n",
    "\n",
    "    # 建立新的格式，保留 reject\n",
    "    new_item = {\n",
    "        \"prompt\": item.get(\"Question\", \"\"),\n",
    "        \"chosen\": new_response,\n",
    "        \"reject\": reject\n",
    "    }\n",
    "\n",
    "    modified_data.append(new_item)\n",
    "\n",
    "# 寫入新檔案\n",
    "with open(output_path, \"w\", encoding=\"utf-8\") as f:\n",
    "    json.dump(modified_data, f, ensure_ascii=False, indent=2)\n",
    "\n",
    "print(f\"✅ 處理完成，結果已儲存到：{output_path}\")"
   ]
  },
  {
   "cell_type": "code",
   "execution_count": 6,
   "id": "a4a84097",
   "metadata": {},
   "outputs": [
    {
     "name": "stdout",
     "output_type": "stream",
     "text": [
      "已成功合併並儲存為 combined_output.json\n"
     ]
    }
   ],
   "source": [
    "import json\n",
    "\n",
    "# 讀取 RUJA.json 和 medical.json\n",
    "with open('./complete_data/RJUA.json', 'r', encoding='utf-8') as f1:\n",
    "    rujas = json.load(f1)\n",
    "\n",
    "with open('./complete_data/medical.json', 'r', encoding='utf-8') as f2:\n",
    "    medicals = json.load(f2)\n",
    "\n",
    "# 合併兩個列表\n",
    "combined_data = rujas + medicals\n",
    "\n",
    "# 將每筆資料轉為具有 prompt、chosen、reject 三個 key 的格式\n",
    "formatted_data = []\n",
    "for item in combined_data:\n",
    "    new_item = {\n",
    "        'prompt': item.get('prompt', ''),\n",
    "        'chosen': item.get('chosen', ''),\n",
    "        'reject': item.get('reject', '')  # 如果原本有 reject 就保留，否則設為空字串\n",
    "    }\n",
    "    formatted_data.append(new_item)\n",
    "\n",
    "# 輸出到新的 JSON 檔案\n",
    "with open('combined_output.json', 'w', encoding='utf-8') as f:\n",
    "    json.dump(formatted_data, f, ensure_ascii=False, indent=4)\n",
    "\n",
    "print(\"已成功合併並儲存為 combined_output.json\")\n"
   ]
  },
  {
   "cell_type": "code",
   "execution_count": 11,
   "id": "fa0eb592",
   "metadata": {},
   "outputs": [
    {
     "name": "stdout",
     "output_type": "stream",
     "text": [
      "已成功將處理後的數據保存至 updated_data.json\n"
     ]
    }
   ],
   "source": [
    "import json\n",
    "import re\n",
    "\n",
    "def extract_and_add_cot(data):\n",
    "    \"\"\"\n",
    "    從 JSON 數據中的每筆資料的 \"chosen\" 欄位提取 <think> 標籤內的文字，\n",
    "    並將提取出的內容(不含標籤)新增到新的 \"COT\" 欄位中。\n",
    "\n",
    "    Args:\n",
    "    data (list): 包含字典的列表，每個字典都包含 \"prompt\"、\"chosen\" 和 \"reject\" 欄位。\n",
    "\n",
    "    Returns:\n",
    "    list: 更新後的列表，其中每筆資料都包含一個額外的 \"COT\" 欄位，\n",
    "          該欄位包含從 \"chosen\" 欄位提取的 <think> 標籤內的文字(不含標籤)。\n",
    "    \"\"\"\n",
    "    for item in data:\n",
    "        chosen_text = item.get(\"chosen\", \"\")\n",
    "        # 使用正則表達式尋找 <think> 標籤內的文字\n",
    "        match = re.search(r\"<think>(.*?)</think>\", chosen_text, re.DOTALL)\n",
    "        if match:\n",
    "            # 提取 <think> 標籤內的文字，只保留中間內容\n",
    "            cot_content = match.group(1)\n",
    "            # 將提取出的內容新增到 \"COT\" 欄位中，不包含標籤\n",
    "            item[\"COT\"] = cot_content\n",
    "            \n",
    "            # 檢測是否有後續的逗號，並一併移除\n",
    "            full_match = match.group(0)\n",
    "            if chosen_text[match.end():].startswith(\"，\"):\n",
    "                replace_text = full_match + \"，\"\n",
    "            else:\n",
    "                replace_text = full_match\n",
    "                \n",
    "            # 從 \"chosen\" 欄位中移除 <think> 標籤及其內容(以及可能的逗號)\n",
    "            item[\"chosen\"] = chosen_text.replace(replace_text, \"\").strip()\n",
    "        else:\n",
    "            # 如果找不到 <think> 標籤，則將 \"COT\" 欄位設定為 None\n",
    "            item[\"COT\"] = None\n",
    "    return data\n",
    "\n",
    "# 使用正確方法讀取 JSON 文件\n",
    "try:\n",
    "    with open('./complete_data/combined.json', 'r', encoding='utf-8') as f:\n",
    "        data = json.load(f)\n",
    "except FileNotFoundError:\n",
    "    print(\"錯誤：找不到文件 './complete_data/combined.json'\")\n",
    "    print(\"請確認文件路徑是否正確，或提供正確的文件路徑\")\n",
    "    exit(1)\n",
    "\n",
    "# 呼叫函數以提取 <think> 標籤內的文字並新增 \"COT\" 欄位\n",
    "updated_data = extract_and_add_cot(data)\n",
    "\n",
    "# 將更新後的數據轉換為 JSON 格式並儲存\n",
    "output_filename = \"updated_data.json\"\n",
    "with open(output_filename, \"w\", encoding=\"utf-8\") as f:\n",
    "    json.dump(updated_data, f, ensure_ascii=False, indent=4)\n",
    "\n",
    "print(f\"已成功將處理後的數據保存至 {output_filename}\")\n"
   ]
  },
  {
   "cell_type": "code",
   "execution_count": 12,
   "id": "ec3fe028",
   "metadata": {},
   "outputs": [
    {
     "name": "stdout",
     "output_type": "stream",
     "text": [
      "已成功將簡體中文轉換為繁體中文並保存至 traditional_chinese_data.json\n"
     ]
    }
   ],
   "source": [
    "import json\n",
    "from opencc import OpenCC\n",
    "\n",
    "# 初始化 OpenCC，設定轉換模式為簡體到繁體\n",
    "cc = OpenCC('s2t')\n",
    "\n",
    "input_file = './updated_data.json'  # 請替換為您的檔案名稱\n",
    "\n",
    "try:\n",
    "    with open(input_file, 'r', encoding='utf-8') as f:\n",
    "        data = json.load(f)\n",
    "except FileNotFoundError:\n",
    "    print(f\"找不到檔案 {input_file}\")\n",
    "    data = []\n",
    "\n",
    "def recursive_convert(obj):\n",
    "    if isinstance(obj, str):\n",
    "        return cc.convert(obj)\n",
    "    elif isinstance(obj, list):\n",
    "        return [recursive_convert(item) for item in obj]\n",
    "    elif isinstance(obj, dict):\n",
    "        return {key: recursive_convert(value) for key, value in obj.items()}\n",
    "    else:\n",
    "        return obj\n",
    "\n",
    "# 轉換所有字串中的簡體中文為繁體中文\n",
    "converted_data = recursive_convert(data)\n",
    "\n",
    "# 將轉換後的資料保存到新的 JSON 檔案\n",
    "output_file = 'traditional_chinese_data.json'\n",
    "with open(output_file, 'w', encoding='utf-8') as f:\n",
    "    json.dump(converted_data, f, ensure_ascii=False, indent=4)\n",
    "\n",
    "print(f'已成功將簡體中文轉換為繁體中文並保存至 {output_file}')"
   ]
  },
  {
   "cell_type": "code",
   "execution_count": null,
   "id": "f76360eb",
   "metadata": {},
   "outputs": [],
   "source": []
  }
 ],
 "metadata": {
  "kernelspec": {
   "display_name": "Python 3",
   "language": "python",
   "name": "python3"
  },
  "language_info": {
   "codemirror_mode": {
    "name": "ipython",
    "version": 3
   },
   "file_extension": ".py",
   "mimetype": "text/x-python",
   "name": "python",
   "nbconvert_exporter": "python",
   "pygments_lexer": "ipython3",
   "version": "3.10.6"
  }
 },
 "nbformat": 4,
 "nbformat_minor": 5
}
